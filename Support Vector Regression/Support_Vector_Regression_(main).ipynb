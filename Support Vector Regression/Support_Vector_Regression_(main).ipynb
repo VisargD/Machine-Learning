{
  "nbformat": 4,
  "nbformat_minor": 0,
  "metadata": {
    "colab": {
      "name": "Support Vector Regression (main).ipynb",
      "provenance": [],
      "collapsed_sections": []
    },
    "kernelspec": {
      "name": "python3",
      "display_name": "Python 3"
    }
  },
  "cells": [
    {
      "cell_type": "markdown",
      "metadata": {
        "id": "m3PAEPRDRLA3",
        "colab_type": "text"
      },
      "source": [
        "# Support Vector Regression (SVR)"
      ]
    },
    {
      "cell_type": "markdown",
      "metadata": {
        "id": "0VCUAVIjRdzZ",
        "colab_type": "text"
      },
      "source": [
        "## Importing the libraries"
      ]
    },
    {
      "cell_type": "code",
      "metadata": {
        "id": "P120lINNQrTe",
        "colab_type": "code",
        "colab": {}
      },
      "source": [
        "import numpy as np\n",
        "import pandas as pd\n",
        "import matplotlib.pyplot as plt"
      ],
      "execution_count": 0,
      "outputs": []
    },
    {
      "cell_type": "markdown",
      "metadata": {
        "id": "fXVXoFWtSF4_",
        "colab_type": "text"
      },
      "source": [
        "## Importing the dataset"
      ]
    },
    {
      "cell_type": "code",
      "metadata": {
        "id": "8_-Stqn7Qxan",
        "colab_type": "code",
        "colab": {}
      },
      "source": [
        "dataset = pd.read_csv('Data.csv')\n",
        "X = dataset.iloc[:,1:-1].values\n",
        "Y = dataset.iloc[:,-1:].values"
      ],
      "execution_count": 0,
      "outputs": []
    },
    {
      "cell_type": "code",
      "metadata": {
        "id": "U4G0ALhNRsnv",
        "colab_type": "code",
        "colab": {}
      },
      "source": [
        "print(X)"
      ],
      "execution_count": 0,
      "outputs": []
    },
    {
      "cell_type": "code",
      "metadata": {
        "id": "n12Dgh6vRsvs",
        "colab_type": "code",
        "colab": {}
      },
      "source": [
        "print(Y)"
      ],
      "execution_count": 0,
      "outputs": []
    },
    {
      "cell_type": "markdown",
      "metadata": {
        "id": "YS8FeLHYS-nI",
        "colab_type": "text"
      },
      "source": [
        "## Feature Scaling"
      ]
    },
    {
      "cell_type": "code",
      "metadata": {
        "id": "ceqp6rsq9Q66",
        "colab_type": "code",
        "colab": {}
      },
      "source": [
        "from sklearn.preprocessing import StandardScaler\n",
        "sc_X = StandardScaler()\n",
        "sc_Y = StandardScaler()\n",
        "X = sc_X.fit_transform(X)\n",
        "Y = sc_Y.fit_transform(Y)"
      ],
      "execution_count": 0,
      "outputs": []
    },
    {
      "cell_type": "code",
      "metadata": {
        "id": "98Nfkg5_9yHN",
        "colab_type": "code",
        "colab": {}
      },
      "source": [
        "print(X)"
      ],
      "execution_count": 0,
      "outputs": []
    },
    {
      "cell_type": "code",
      "metadata": {
        "id": "ThMmfF_x-26M",
        "colab_type": "code",
        "colab": {}
      },
      "source": [
        "print(Y)"
      ],
      "execution_count": 0,
      "outputs": []
    },
    {
      "cell_type": "markdown",
      "metadata": {
        "id": "eiU6D2QFRjxY",
        "colab_type": "text"
      },
      "source": [
        "## Training the SVR model on the whole dataset"
      ]
    },
    {
      "cell_type": "code",
      "metadata": {
        "id": "DhtmBQ8hCVzW",
        "colab_type": "code",
        "colab": {}
      },
      "source": [
        "from sklearn.svm import SVR\n",
        "regressor = SVR(kernel = 'rbf')\n",
        "regressor.fit(X, Y)"
      ],
      "execution_count": 0,
      "outputs": []
    },
    {
      "cell_type": "markdown",
      "metadata": {
        "id": "deDnDr8UR5vq",
        "colab_type": "text"
      },
      "source": [
        "## Predicting a new result"
      ]
    },
    {
      "cell_type": "code",
      "metadata": {
        "id": "E0Ms1UW5Gdvc",
        "colab_type": "code",
        "colab": {}
      },
      "source": [
        "sc_Y.inverse_transform(regressor.predict(sc_X.transform([[6.5]])))"
      ],
      "execution_count": 0,
      "outputs": []
    },
    {
      "cell_type": "markdown",
      "metadata": {
        "id": "zzedFlUISSu_",
        "colab_type": "text"
      },
      "source": [
        "## Visualising the SVR results"
      ]
    },
    {
      "cell_type": "code",
      "metadata": {
        "id": "tZntZnNxH4P0",
        "colab_type": "code",
        "colab": {}
      },
      "source": [
        "plt.title('Support Vector Regression', size = 15)\n",
        "plt.xlabel('Level', size = 15)\n",
        "plt.ylabel('Salary', size = 15)\n",
        "plt.scatter(sc_X.inverse_transform(X), sc_Y.inverse_transform(Y), color = 'red')\n",
        "plt.plot(sc_X.inverse_transform(X), sc_Y.inverse_transform(regressor.predict(X)), color = 'blue')\n",
        "plt.show()"
      ],
      "execution_count": 0,
      "outputs": []
    },
    {
      "cell_type": "markdown",
      "metadata": {
        "id": "UahPVNlJSZ-K",
        "colab_type": "text"
      },
      "source": [
        "## Visualising the SVR results (for higher resolution and smoother curve)"
      ]
    },
    {
      "cell_type": "code",
      "metadata": {
        "id": "2OHjcPWKKSjo",
        "colab_type": "code",
        "colab": {}
      },
      "source": [
        "plt.title('Support Vector Regression', size = 15)\n",
        "plt.xlabel('Level', size = 15)\n",
        "plt.ylabel('Salary', size = 15)\n",
        "X_grid = np.arange(min(sc_X.inverse_transform(X)), max(sc_X.inverse_transform(X)), 0.1)\n",
        "X_grid = X_grid.reshape(len(X_grid), 1)\n",
        "plt.scatter(sc_X.inverse_transform(X), sc_Y.inverse_transform(Y), color = 'red')\n",
        "plt.plot(X_grid, sc_Y.inverse_transform(regressor.predict(sc_X.transform(X_grid))), color = 'blue')\n",
        "plt.show()"
      ],
      "execution_count": 0,
      "outputs": []
    }
  ]
}