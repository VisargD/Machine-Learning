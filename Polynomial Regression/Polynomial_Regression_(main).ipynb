{
  "nbformat": 4,
  "nbformat_minor": 0,
  "metadata": {
    "colab": {
      "name": "Polynomial Regression (main).ipynb",
      "provenance": [],
      "collapsed_sections": [],
      "toc_visible": true
    },
    "kernelspec": {
      "name": "python3",
      "display_name": "Python 3"
    }
  },
  "cells": [
    {
      "cell_type": "markdown",
      "metadata": {
        "id": "vN99YjPTDena",
        "colab_type": "text"
      },
      "source": [
        "# Polynomial Regression"
      ]
    },
    {
      "cell_type": "markdown",
      "metadata": {
        "id": "ZIx_naXnDyHd",
        "colab_type": "text"
      },
      "source": [
        "## Importing the libraries"
      ]
    },
    {
      "cell_type": "code",
      "metadata": {
        "id": "6Tpm4XyuD2tQ",
        "colab_type": "code",
        "colab": {}
      },
      "source": [
        "import pandas as pd\n",
        "import numpy as np\n",
        "import matplotlib.pyplot as plt"
      ],
      "execution_count": 0,
      "outputs": []
    },
    {
      "cell_type": "markdown",
      "metadata": {
        "id": "6c8YExmOD5x5",
        "colab_type": "text"
      },
      "source": [
        "## Importing the dataset"
      ]
    },
    {
      "cell_type": "code",
      "metadata": {
        "id": "0XQ1LymqEB6I",
        "colab_type": "code",
        "colab": {}
      },
      "source": [
        "dataset = pd.read_csv('Data.csv')\n",
        "X = dataset.iloc[:,1:-1].values\n",
        "Y = dataset.iloc[:,-1].values"
      ],
      "execution_count": 0,
      "outputs": []
    },
    {
      "cell_type": "code",
      "metadata": {
        "id": "vLWPNwU3FWjR",
        "colab_type": "code",
        "colab": {}
      },
      "source": [
        "print(X.reshape(len(X), 1))"
      ],
      "execution_count": 0,
      "outputs": []
    },
    {
      "cell_type": "code",
      "metadata": {
        "id": "8_aLJmEBFYAx",
        "colab_type": "code",
        "colab": {}
      },
      "source": [
        "print(Y.reshape(len(Y), 1))"
      ],
      "execution_count": 0,
      "outputs": []
    },
    {
      "cell_type": "markdown",
      "metadata": {
        "id": "Le8SEL-YEOLb",
        "colab_type": "text"
      },
      "source": [
        "## Training the Linear Regression model on the whole dataset"
      ]
    },
    {
      "cell_type": "code",
      "metadata": {
        "id": "ruba4dD2E9qA",
        "colab_type": "code",
        "colab": {}
      },
      "source": [
        "from sklearn.linear_model import LinearRegression\n",
        "linear_regressor = LinearRegression()\n",
        "linear_regressor.fit(X, Y)"
      ],
      "execution_count": 0,
      "outputs": []
    },
    {
      "cell_type": "markdown",
      "metadata": {
        "id": "Rb5nWuSHEfBV",
        "colab_type": "text"
      },
      "source": [
        "## Training the Polynomial Regression model on the whole dataset (degree = 2)"
      ]
    },
    {
      "cell_type": "code",
      "metadata": {
        "id": "Qh7bX6nuJalQ",
        "colab_type": "code",
        "colab": {}
      },
      "source": [
        "from sklearn.preprocessing import PolynomialFeatures\n",
        "poly_regressor_2 = PolynomialFeatures(degree=2)\n",
        "X_poly_2 = poly_regressor_2.fit_transform(X)\n",
        "new_linear_regressor_2 = LinearRegression()\n",
        "new_linear_regressor_2.fit(X_poly_2, Y)"
      ],
      "execution_count": 0,
      "outputs": []
    },
    {
      "cell_type": "markdown",
      "metadata": {
        "id": "nu9MslapbcjK",
        "colab_type": "text"
      },
      "source": [
        "\n",
        "\n",
        "##Training the Polynomial Regression model on the whole dataset (degree = 3)\n"
      ]
    },
    {
      "cell_type": "code",
      "metadata": {
        "id": "VWuKpvmIbi2G",
        "colab_type": "code",
        "colab": {}
      },
      "source": [
        "from sklearn.preprocessing import PolynomialFeatures\n",
        "poly_regressor_3 = PolynomialFeatures(degree=3)\n",
        "X_poly_3 = poly_regressor_3.fit_transform(X)\n",
        "new_linear_regressor_3 = LinearRegression()\n",
        "new_linear_regressor_3.fit(X_poly_3, Y)"
      ],
      "execution_count": 0,
      "outputs": []
    },
    {
      "cell_type": "markdown",
      "metadata": {
        "id": "NqPG9zXdbzin",
        "colab_type": "text"
      },
      "source": [
        "\n",
        "##Training the Polynomial Regression model on the whole dataset (degree = 4)\n"
      ]
    },
    {
      "cell_type": "code",
      "metadata": {
        "id": "_RNNhX_Yb-7n",
        "colab_type": "code",
        "colab": {}
      },
      "source": [
        "from sklearn.preprocessing import PolynomialFeatures\n",
        "poly_regressor_4 = PolynomialFeatures(degree=4)\n",
        "X_poly_4 = poly_regressor_4.fit_transform(X)\n",
        "new_linear_regressor_4 = LinearRegression()\n",
        "new_linear_regressor_4.fit(X_poly_4, Y)"
      ],
      "execution_count": 0,
      "outputs": []
    },
    {
      "cell_type": "markdown",
      "metadata": {
        "id": "0O8R0tzbEpvy",
        "colab_type": "text"
      },
      "source": [
        "## Visualising the Linear Regression results"
      ]
    },
    {
      "cell_type": "code",
      "metadata": {
        "id": "Y5yzhwrbH_ZJ",
        "colab_type": "code",
        "colab": {}
      },
      "source": [
        "plt.title('Linear Regression visualization', size=15)\n",
        "plt.xlabel('Position (Level)', size=12)\n",
        "plt.ylabel('Salary', size=12)\n",
        "plt.scatter(X, Y, color='red')\n",
        "plt.plot(X, linear.predict(X), color='blue')\n",
        "plt.show()"
      ],
      "execution_count": 0,
      "outputs": []
    },
    {
      "cell_type": "markdown",
      "metadata": {
        "id": "stOnSo74E52m",
        "colab_type": "text"
      },
      "source": [
        "## Visualising the Polynomial Regression results (degree = 2)"
      ]
    },
    {
      "cell_type": "code",
      "metadata": {
        "id": "PR3GyX1bVvE1",
        "colab_type": "code",
        "colab": {}
      },
      "source": [
        "plt.title('Polynomial Regression visualisation (degree=2)', size=15)\n",
        "plt.xlabel('Position (Level)', size=12)\n",
        "plt.ylabel('Salary', size=12)\n",
        "plt.scatter(X, Y, color='red')\n",
        "plt.plot(X, new_linear_regressor_2.predict(poly_regressor_2.fit_transform(X)), color='blue')\n",
        "plt.show()"
      ],
      "execution_count": 0,
      "outputs": []
    },
    {
      "cell_type": "markdown",
      "metadata": {
        "id": "U_qsAMKnE-PJ",
        "colab_type": "text"
      },
      "source": [
        "## Visualising the Polynomial Regression results (degree = 3)"
      ]
    },
    {
      "cell_type": "code",
      "metadata": {
        "id": "33XRQst0cG7b",
        "colab_type": "code",
        "colab": {}
      },
      "source": [
        "plt.title('Polynomial Regression visualisation (degree=3)', size=15)\n",
        "plt.xlabel('Position (Level)', size=12)\n",
        "plt.ylabel('Salary', size=12)\n",
        "plt.scatter(X, Y, color='red')\n",
        "plt.plot(X, new_linear_regressor_3.predict(poly_regressor_3.fit_transform(X)), color='blue')\n",
        "plt.show()"
      ],
      "execution_count": 0,
      "outputs": []
    },
    {
      "cell_type": "markdown",
      "metadata": {
        "id": "9RkM-KvZdHic",
        "colab_type": "text"
      },
      "source": [
        "##Visualising the Polynomial Regression results (degree = 4)"
      ]
    },
    {
      "cell_type": "code",
      "metadata": {
        "id": "8VVd5VoEdgNZ",
        "colab_type": "code",
        "colab": {}
      },
      "source": [
        "plt.title('Polynomial Regression visualisation (degree=4)', size=15)\n",
        "plt.xlabel('Position (Level)', size=12)\n",
        "plt.ylabel('Salary', size=12)\n",
        "plt.scatter(X, Y, color='red')\n",
        "plt.plot(X, new_linear_regressor_4.predict(poly_regressor_4.fit_transform(X)), color='blue')\n",
        "plt.show()"
      ],
      "execution_count": 0,
      "outputs": []
    },
    {
      "cell_type": "markdown",
      "metadata": {
        "id": "diyJFZHhFFeK",
        "colab_type": "text"
      },
      "source": [
        "## Predicting a new result with Linear Regression"
      ]
    },
    {
      "cell_type": "code",
      "metadata": {
        "id": "cesOVUB4duCZ",
        "colab_type": "code",
        "colab": {}
      },
      "source": [
        "linear_regressor.predict([[5.45]])"
      ],
      "execution_count": 0,
      "outputs": []
    },
    {
      "cell_type": "markdown",
      "metadata": {
        "id": "DW7I7ZVDFNkk",
        "colab_type": "text"
      },
      "source": [
        "## Predicting a new result with Polynomial Regression (degree=2)"
      ]
    },
    {
      "cell_type": "code",
      "metadata": {
        "id": "I9W388qNi_Be",
        "colab_type": "code",
        "colab": {}
      },
      "source": [
        "new_linear_regressor_2.predict(poly_regressor_2.fit_transform([[5.45]]))"
      ],
      "execution_count": 0,
      "outputs": []
    },
    {
      "cell_type": "markdown",
      "metadata": {
        "id": "c3hIlJdHkFZT",
        "colab_type": "text"
      },
      "source": [
        "## Predicting a new result with Polynomial Regression (degree=3)"
      ]
    },
    {
      "cell_type": "code",
      "metadata": {
        "id": "a1wZJkwdkJ1T",
        "colab_type": "code",
        "colab": {}
      },
      "source": [
        "new_linear_regressor_3.predict(poly_regressor_3.fit_transform([[5.45]]))"
      ],
      "execution_count": 0,
      "outputs": []
    },
    {
      "cell_type": "markdown",
      "metadata": {
        "id": "jIc2aGCykO8-",
        "colab_type": "text"
      },
      "source": [
        "## Predicting a new result with Polynomial Regression (degree=4)"
      ]
    },
    {
      "cell_type": "code",
      "metadata": {
        "id": "V1tfq8kQkYJ-",
        "colab_type": "code",
        "colab": {}
      },
      "source": [
        "new_linear_regressor_4.predict(poly_regressor_4.fit_transform([[5.45]]))"
      ],
      "execution_count": 0,
      "outputs": []
    }
  ]
}